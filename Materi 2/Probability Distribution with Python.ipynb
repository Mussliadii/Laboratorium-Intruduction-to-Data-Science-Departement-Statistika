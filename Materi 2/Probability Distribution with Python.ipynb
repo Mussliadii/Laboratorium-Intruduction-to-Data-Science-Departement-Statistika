{
 "cells": [
  {
   "cell_type": "code",
   "execution_count": 2,
   "id": "9159eb1d-d5a1-4786-a82b-4ad921a24d16",
   "metadata": {
    "tags": []
   },
   "outputs": [],
   "source": [
    "import scipy.stats as stats\n",
    "from scipy.stats import binom\n",
    "from scipy.stats import norm"
   ]
  },
  {
   "cell_type": "code",
   "execution_count": 6,
   "id": "4e843871-0c7d-4df3-972e-e3d1cdbdd14f",
   "metadata": {
    "tags": []
   },
   "outputs": [
    {
     "data": {
      "text/plain": [
       "0.13957567793089543"
      ]
     },
     "execution_count": 6,
     "metadata": {},
     "output_type": "execute_result"
    }
   ],
   "source": [
    "# No 1\n",
    "stats.binom.pmf(4, 100, 0.05)"
   ]
  },
  {
   "cell_type": "code",
   "execution_count": 7,
   "id": "733d9737-39a0-4390-aea7-9602dc19f8fc",
   "metadata": {
    "tags": []
   },
   "outputs": [
    {
     "data": {
      "text/plain": [
       "0.005920529220334023"
      ]
     },
     "execution_count": 7,
     "metadata": {},
     "output_type": "execute_result"
    }
   ],
   "source": [
    "stats.binom.cdf(0, 100, 0.05)"
   ]
  },
  {
   "cell_type": "code",
   "execution_count": 5,
   "id": "0183f055-5d42-4818-8cc5-75e09ac205c1",
   "metadata": {
    "tags": []
   },
   "outputs": [
    {
     "data": {
      "text/plain": [
       "0.6159991279561408"
      ]
     },
     "execution_count": 5,
     "metadata": {},
     "output_type": "execute_result"
    }
   ],
   "source": [
    "sum(stats.binom.pmf(range(6), 100, 0.05))"
   ]
  },
  {
   "cell_type": "code",
   "execution_count": 10,
   "id": "fa7ae417-21a1-427e-89c8-624a977b9c97",
   "metadata": {
    "tags": []
   },
   "outputs": [
    {
     "data": {
      "text/plain": [
       "0.10483725588365922"
      ]
     },
     "execution_count": 10,
     "metadata": {},
     "output_type": "execute_result"
    }
   ],
   "source": [
    "# No 2\n",
    "stats.poisson.pmf(10, 12)"
   ]
  },
  {
   "cell_type": "code",
   "execution_count": 11,
   "id": "0d8029bd-adad-4dc1-bb5b-f95ed8b1c679",
   "metadata": {
    "tags": []
   },
   "outputs": [
    {
     "data": {
      "text/plain": [
       "6.14421235332821e-06"
      ]
     },
     "execution_count": 11,
     "metadata": {},
     "output_type": "execute_result"
    }
   ],
   "source": [
    "stats.poisson.pmf(0, 12)"
   ]
  },
  {
   "cell_type": "code",
   "execution_count": 12,
   "id": "ad673fe0-ecaa-469f-a7e5-c1a544aa0d01",
   "metadata": {
    "tags": []
   },
   "outputs": [
    {
     "data": {
      "text/plain": [
       "0.9884022627851929"
      ]
     },
     "execution_count": 12,
     "metadata": {},
     "output_type": "execute_result"
    }
   ],
   "source": [
    "sum(stats.poisson.pmf(range(21), 12))"
   ]
  },
  {
   "cell_type": "code",
   "execution_count": 24,
   "id": "5f5071e3-b861-42b4-9f92-fc2eb1ab2890",
   "metadata": {
    "tags": []
   },
   "outputs": [
    {
     "data": {
      "text/plain": [
       "0.0012379400392853823"
      ]
     },
     "execution_count": 24,
     "metadata": {},
     "output_type": "execute_result"
    }
   ],
   "source": [
    "# No 3\n",
    "stats.binom.pmf(30, 30, 0.8)"
   ]
  },
  {
   "cell_type": "code",
   "execution_count": 23,
   "id": "49753bf8-c03a-4591-89e8-00b2d6c7021b",
   "metadata": {
    "tags": []
   },
   "outputs": [
    {
     "data": {
      "text/plain": [
       "0.0031107643072580396"
      ]
     },
     "execution_count": 23,
     "metadata": {},
     "output_type": "execute_result"
    }
   ],
   "source": [
    "sum(stats.binom.pmf(range(12, 18), 30, 0.8))"
   ]
  },
  {
   "cell_type": "code",
   "execution_count": 19,
   "id": "6043323f-5de8-4cc3-a7c0-f363e50dd223",
   "metadata": {
    "tags": []
   },
   "outputs": [
    {
     "data": {
      "text/plain": [
       "0.9999999616947626"
      ]
     },
     "execution_count": 19,
     "metadata": {},
     "output_type": "execute_result"
    }
   ],
   "source": [
    "1 - binom.cdf(10, 30, 0.8)"
   ]
  },
  {
   "cell_type": "code",
   "execution_count": null,
   "id": "11c670e3-492e-4fb2-bfae-8797ad6db752",
   "metadata": {
    "tags": []
   },
   "outputs": [],
   "source": []
  },
  {
   "cell_type": "code",
   "execution_count": 20,
   "id": "612ada3d",
   "metadata": {},
   "outputs": [
    {
     "name": "stdout",
     "output_type": "stream",
     "text": [
      "0.9389128517113445\n"
     ]
    }
   ],
   "source": [
    "result = binom.sf(20, 30, 0.8)\n",
    "print(result)"
   ]
  },
  {
   "cell_type": "code",
   "execution_count": 4,
   "id": "790dda3c-4969-404f-9aea-690d6a256e46",
   "metadata": {
    "tags": []
   },
   "outputs": [
    {
     "data": {
      "text/plain": [
       "0.014606917077973784"
      ]
     },
     "execution_count": 4,
     "metadata": {},
     "output_type": "execute_result"
    }
   ],
   "source": [
    "# No 4\n",
    "norm.pdf(24, 27, 1.2)"
   ]
  },
  {
   "cell_type": "code",
   "execution_count": 8,
   "id": "b539428e-4fcc-4916-bb5c-018f59a7319d",
   "metadata": {
    "tags": []
   },
   "outputs": [
    {
     "data": {
      "text/plain": [
       "0.16489015829382736"
      ]
     },
     "execution_count": 8,
     "metadata": {},
     "output_type": "execute_result"
    }
   ],
   "source": [
    "# No 5\n",
    "stats.norm.cdf(80, 78, 12) - stats.norm.cdf(75, 78, 12)"
   ]
  },
  {
   "cell_type": "code",
   "execution_count": 9,
   "id": "6d653eda-5039-4e3d-9e65-521e70c547e1",
   "metadata": {},
   "outputs": [
    {
     "data": {
      "text/plain": [
       "25.24925375469229"
      ]
     },
     "execution_count": 9,
     "metadata": {},
     "output_type": "execute_result"
    }
   ],
   "source": [
    "stats.norm.cdf(70, 78, 12)*100"
   ]
  },
  {
   "cell_type": "code",
   "execution_count": null,
   "id": "da7ad6b5-2452-4c42-a759-55265eaac301",
   "metadata": {},
   "outputs": [],
   "source": []
  }
 ],
 "metadata": {
  "kernelspec": {
   "display_name": "Python 3 (ipykernel)",
   "language": "python",
   "name": "python3"
  },
  "language_info": {
   "codemirror_mode": {
    "name": "ipython",
    "version": 3
   },
   "file_extension": ".py",
   "mimetype": "text/x-python",
   "name": "python",
   "nbconvert_exporter": "python",
   "pygments_lexer": "ipython3",
   "version": "3.11.4"
  }
 },
 "nbformat": 4,
 "nbformat_minor": 5
}
