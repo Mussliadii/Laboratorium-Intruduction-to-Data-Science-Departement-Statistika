{
 "cells": [
  {
   "cell_type": "code",
   "execution_count": null,
   "id": "4c9a8a01",
   "metadata": {},
   "outputs": [],
   "source": [
    "pip install bioinfokit"
   ]
  },
  {
   "cell_type": "code",
   "execution_count": 1,
   "id": "712b9bf5",
   "metadata": {},
   "outputs": [],
   "source": [
    "import pandas as pd\n",
    "import statsmodels.api as sm\n",
    "from statsmodels.formula.api import ols\n",
    "from scipy import stats\n",
    "from statsmodels.formula.api import ols\n",
    "from bioinfokit.analys import stat "
   ]
  },
  {
   "cell_type": "code",
   "execution_count": 2,
   "id": "e7ac321e",
   "metadata": {},
   "outputs": [
    {
     "data": {
      "text/html": [
       "<div>\n",
       "<style scoped>\n",
       "    .dataframe tbody tr th:only-of-type {\n",
       "        vertical-align: middle;\n",
       "    }\n",
       "\n",
       "    .dataframe tbody tr th {\n",
       "        vertical-align: top;\n",
       "    }\n",
       "\n",
       "    .dataframe thead th {\n",
       "        text-align: right;\n",
       "    }\n",
       "</style>\n",
       "<table border=\"1\" class=\"dataframe\">\n",
       "  <thead>\n",
       "    <tr style=\"text-align: right;\">\n",
       "      <th></th>\n",
       "      <th>Pengetahuan</th>\n",
       "      <th>Sikap</th>\n",
       "      <th>Responden</th>\n",
       "    </tr>\n",
       "  </thead>\n",
       "  <tbody>\n",
       "    <tr>\n",
       "      <th>0</th>\n",
       "      <td>Cukup</td>\n",
       "      <td>Positif</td>\n",
       "      <td>1</td>\n",
       "    </tr>\n",
       "    <tr>\n",
       "      <th>1</th>\n",
       "      <td>Kurang</td>\n",
       "      <td>Negatif</td>\n",
       "      <td>2</td>\n",
       "    </tr>\n",
       "    <tr>\n",
       "      <th>2</th>\n",
       "      <td>Kurang</td>\n",
       "      <td>Positif</td>\n",
       "      <td>3</td>\n",
       "    </tr>\n",
       "    <tr>\n",
       "      <th>3</th>\n",
       "      <td>Baik</td>\n",
       "      <td>Negatif</td>\n",
       "      <td>4</td>\n",
       "    </tr>\n",
       "    <tr>\n",
       "      <th>4</th>\n",
       "      <td>Kurang</td>\n",
       "      <td>Negatif</td>\n",
       "      <td>5</td>\n",
       "    </tr>\n",
       "    <tr>\n",
       "      <th>5</th>\n",
       "      <td>Kurang</td>\n",
       "      <td>Positif</td>\n",
       "      <td>6</td>\n",
       "    </tr>\n",
       "    <tr>\n",
       "      <th>6</th>\n",
       "      <td>Baik</td>\n",
       "      <td>Negatif</td>\n",
       "      <td>7</td>\n",
       "    </tr>\n",
       "    <tr>\n",
       "      <th>7</th>\n",
       "      <td>Baik</td>\n",
       "      <td>Positif</td>\n",
       "      <td>8</td>\n",
       "    </tr>\n",
       "    <tr>\n",
       "      <th>8</th>\n",
       "      <td>Kurang</td>\n",
       "      <td>Positif</td>\n",
       "      <td>9</td>\n",
       "    </tr>\n",
       "    <tr>\n",
       "      <th>9</th>\n",
       "      <td>Cukup</td>\n",
       "      <td>Negatif</td>\n",
       "      <td>10</td>\n",
       "    </tr>\n",
       "    <tr>\n",
       "      <th>10</th>\n",
       "      <td>Kurang</td>\n",
       "      <td>Positif</td>\n",
       "      <td>11</td>\n",
       "    </tr>\n",
       "    <tr>\n",
       "      <th>11</th>\n",
       "      <td>Kurang</td>\n",
       "      <td>Positif</td>\n",
       "      <td>12</td>\n",
       "    </tr>\n",
       "    <tr>\n",
       "      <th>12</th>\n",
       "      <td>Baik</td>\n",
       "      <td>Positif</td>\n",
       "      <td>13</td>\n",
       "    </tr>\n",
       "    <tr>\n",
       "      <th>13</th>\n",
       "      <td>Baik</td>\n",
       "      <td>Negatif</td>\n",
       "      <td>14</td>\n",
       "    </tr>\n",
       "    <tr>\n",
       "      <th>14</th>\n",
       "      <td>Kurang</td>\n",
       "      <td>Positif</td>\n",
       "      <td>15</td>\n",
       "    </tr>\n",
       "    <tr>\n",
       "      <th>15</th>\n",
       "      <td>Baik</td>\n",
       "      <td>Negatif</td>\n",
       "      <td>16</td>\n",
       "    </tr>\n",
       "    <tr>\n",
       "      <th>16</th>\n",
       "      <td>Kurang</td>\n",
       "      <td>Positif</td>\n",
       "      <td>17</td>\n",
       "    </tr>\n",
       "    <tr>\n",
       "      <th>17</th>\n",
       "      <td>Cukup</td>\n",
       "      <td>Negatif</td>\n",
       "      <td>18</td>\n",
       "    </tr>\n",
       "    <tr>\n",
       "      <th>18</th>\n",
       "      <td>Baik</td>\n",
       "      <td>Negatif</td>\n",
       "      <td>19</td>\n",
       "    </tr>\n",
       "    <tr>\n",
       "      <th>19</th>\n",
       "      <td>Kurang</td>\n",
       "      <td>Positif</td>\n",
       "      <td>20</td>\n",
       "    </tr>\n",
       "  </tbody>\n",
       "</table>\n",
       "</div>"
      ],
      "text/plain": [
       "   Pengetahuan    Sikap  Responden\n",
       "0       Cukup   Positif          1\n",
       "1       Kurang  Negatif          2\n",
       "2       Kurang  Positif          3\n",
       "3         Baik  Negatif          4\n",
       "4       Kurang  Negatif          5\n",
       "5       Kurang  Positif          6\n",
       "6         Baik  Negatif          7\n",
       "7         Baik  Positif          8\n",
       "8       Kurang  Positif          9\n",
       "9       Cukup   Negatif         10\n",
       "10      Kurang  Positif         11\n",
       "11      Kurang  Positif         12\n",
       "12        Baik  Positif         13\n",
       "13        Baik  Negatif         14\n",
       "14      Kurang  Positif         15\n",
       "15        Baik  Negatif         16\n",
       "16      Kurang  Positif         17\n",
       "17      Cukup   Negatif         18\n",
       "18        Baik  Negatif         19\n",
       "19      Kurang  Positif         20"
      ]
     },
     "execution_count": 2,
     "metadata": {},
     "output_type": "execute_result"
    }
   ],
   "source": [
    "data = pd.read_clipboard()\n",
    "data"
   ]
  },
  {
   "cell_type": "code",
   "execution_count": null,
   "id": "9074cf06",
   "metadata": {},
   "outputs": [],
   "source": [
    "import statsmodels.api as sm\n",
    "from statsmodels.formula.api import ols\n",
    "import pandas as pd\n",
    "from scipy import stats\n",
    "from bioinfokit.analys import stat"
   ]
  },
  {
   "cell_type": "code",
   "execution_count": 3,
   "id": "9ded0c14",
   "metadata": {},
   "outputs": [
    {
     "name": "stdout",
     "output_type": "stream",
     "text": [
      "Sikap        Negatif  Positif\n",
      "Pengetahuan                  \n",
      "Baik               5        2\n",
      "Cukup              2        1\n",
      "Kurang             2        8\n"
     ]
    }
   ],
   "source": [
    "ctab = pd.crosstab(data[\"Pengetahuan\"], data[\"Sikap\"])\n",
    "print(ctab)"
   ]
  },
  {
   "cell_type": "code",
   "execution_count": 4,
   "id": "691ee460",
   "metadata": {},
   "outputs": [
    {
     "name": "stdout",
     "output_type": "stream",
     "text": [
      "\n",
      "Chi-squared test for independence\n",
      "\n",
      "Test              Df    Chi-square    P-value\n",
      "--------------  ----  ------------  ---------\n",
      "Pearson            2       5.06975  0.0792718\n",
      "Log-likelihood     2       5.32264  0.0698558\n",
      "\n"
     ]
    }
   ],
   "source": [
    "#MUS\n",
    "res = stat()\n",
    "res.chisq(df=ctab)\n",
    "print(res.summary)"
   ]
  },
  {
   "cell_type": "code",
   "execution_count": 5,
   "id": "bd0a792e",
   "metadata": {},
   "outputs": [
    {
     "data": {
      "text/html": [
       "<div>\n",
       "<style scoped>\n",
       "    .dataframe tbody tr th:only-of-type {\n",
       "        vertical-align: middle;\n",
       "    }\n",
       "\n",
       "    .dataframe tbody tr th {\n",
       "        vertical-align: top;\n",
       "    }\n",
       "\n",
       "    .dataframe thead th {\n",
       "        text-align: right;\n",
       "    }\n",
       "</style>\n",
       "<table border=\"1\" class=\"dataframe\">\n",
       "  <thead>\n",
       "    <tr style=\"text-align: right;\">\n",
       "      <th></th>\n",
       "      <th>OTS</th>\n",
       "      <th>POC</th>\n",
       "    </tr>\n",
       "  </thead>\n",
       "  <tbody>\n",
       "    <tr>\n",
       "      <th>0</th>\n",
       "      <td>S1</td>\n",
       "      <td>7</td>\n",
       "    </tr>\n",
       "    <tr>\n",
       "      <th>1</th>\n",
       "      <td>S1</td>\n",
       "      <td>7</td>\n",
       "    </tr>\n",
       "    <tr>\n",
       "      <th>2</th>\n",
       "      <td>S1</td>\n",
       "      <td>15</td>\n",
       "    </tr>\n",
       "    <tr>\n",
       "      <th>3</th>\n",
       "      <td>S1</td>\n",
       "      <td>11</td>\n",
       "    </tr>\n",
       "    <tr>\n",
       "      <th>4</th>\n",
       "      <td>S1</td>\n",
       "      <td>9</td>\n",
       "    </tr>\n",
       "  </tbody>\n",
       "</table>\n",
       "</div>"
      ],
      "text/plain": [
       "  OTS  POC\n",
       "0  S1    7\n",
       "1  S1    7\n",
       "2  S1   15\n",
       "3  S1   11\n",
       "4  S1    9"
      ]
     },
     "execution_count": 5,
     "metadata": {},
     "output_type": "execute_result"
    }
   ],
   "source": [
    "datamus = pd.read_clipboard()\n",
    "datamus.head() #mus"
   ]
  },
  {
   "cell_type": "code",
   "execution_count": 6,
   "id": "544e6e9d",
   "metadata": {},
   "outputs": [
    {
     "name": "stdout",
     "output_type": "stream",
     "text": [
      "          sum_sq    df          F        PR(>F)\n",
      "OTS       568.56   4.0  21.471299  5.266490e-07\n",
      "Residual  132.40  20.0        NaN           NaN\n"
     ]
    }
   ],
   "source": [
    "model_observed = ols('POC~ OTS', data=datamus).fit()\n",
    "tabel_anova = sm.stats.anova_lm(model_observed, typ=2)\n",
    "print (tabel_anova)\n",
    "#mus"
   ]
  },
  {
   "cell_type": "code",
   "execution_count": null,
   "id": "b7898a29",
   "metadata": {},
   "outputs": [],
   "source": [
    "#mus\n",
    "model_observed = ols('Hobi~ Gender', data=datamus).fit()\n",
    "tabel_anova = sm.stats.anova_lm(model_observed, typ=2)\n",
    "print (tabel_anova)"
   ]
  },
  {
   "cell_type": "code",
   "execution_count": null,
   "id": "f10cfc39",
   "metadata": {},
   "outputs": [],
   "source": [
    "\n"
   ]
  },
  {
   "cell_type": "code",
   "execution_count": null,
   "id": "de352e93",
   "metadata": {},
   "outputs": [],
   "source": []
  }
 ],
 "metadata": {
  "kernelspec": {
   "display_name": "Python 3 (ipykernel)",
   "language": "python",
   "name": "python3"
  },
  "language_info": {
   "codemirror_mode": {
    "name": "ipython",
    "version": 3
   },
   "file_extension": ".py",
   "mimetype": "text/x-python",
   "name": "python",
   "nbconvert_exporter": "python",
   "pygments_lexer": "ipython3",
   "version": "3.11.4"
  }
 },
 "nbformat": 4,
 "nbformat_minor": 5
}
